{
 "cells": [
  {
   "cell_type": "code",
   "execution_count": null,
   "metadata": {},
   "outputs": [],
   "source": [
    "class Queue:\n",
    "    '''\n",
    "    FIFO - First In First Out\n",
    "    '''\n",
    "\n",
    "    def __init__(self):\n",
    "        self.queue = []\n",
    "\n",
    "    def enqueue(self, element):\n",
    "        ''' Добавляем в очередь (в конец)'''\n",
    "        self.queue.append(element)\n",
    "        return \n",
    "\n",
    "    def dequeue(self):\n",
    "        ''' Убираем из очереди (с начала)'''\n",
    "        if len(self.queue) == 0:        # если очередь пустая\n",
    "            return 'babes, its empty'\n",
    "\n",
    "        return self.queue.pop(0)\n",
    "\n",
    "    def size(self):\n",
    "        ''' Возращает длину'''\n",
    "        return len(self.queue)\n",
    "\n",
    "    def get_queue(self):\n",
    "        ''' Возвращает очередь '''\n",
    "        return self.queue"
   ]
  },
  {
   "cell_type": "code",
   "execution_count": null,
   "metadata": {},
   "outputs": [],
   "source": [
    "queue = Queue()\n",
    "\n",
    "queue.dequeue()     # 'babes, its empty'\n",
    "\n",
    "[queue.enqueue(i) for i in range(1, 10)]\n",
    "queue.get_queue()   # [1, 2, 3, 4, 5, 6, 7, 8, 9]\n",
    "\n",
    "queue.dequeue()     # 1 \n",
    "queue.get_queue()   # [2, 3, 4, 5, 6, 7, 8, 9]\n",
    "\n",
    "\n",
    "queue.dequeue()     # 2\n",
    "queue.get_queue()   # [3, 4, 5, 6, 7, 8, 9]\n",
    "\n",
    "queue.size()        # 7"
   ]
  }
 ],
 "metadata": {
  "interpreter": {
   "hash": "b0fa6594d8f4cbf19f97940f81e996739fb7646882a419484c72d19e05852a7e"
  },
  "kernelspec": {
   "display_name": "Python 3.9.12 64-bit",
   "language": "python",
   "name": "python3"
  },
  "language_info": {
   "codemirror_mode": {
    "name": "ipython",
    "version": 3
   },
   "file_extension": ".py",
   "mimetype": "text/x-python",
   "name": "python",
   "nbconvert_exporter": "python",
   "pygments_lexer": "ipython3",
   "version": "3.9.12"
  },
  "orig_nbformat": 4
 },
 "nbformat": 4,
 "nbformat_minor": 2
}
