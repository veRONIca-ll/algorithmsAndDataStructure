{
 "cells": [
  {
   "cell_type": "code",
   "execution_count": null,
   "metadata": {},
   "outputs": [],
   "source": [
    "class Stack:\n",
    "    '''\n",
    "    LIFO — Last In First Out\n",
    "    Стек похож на стопку тарелок.\n",
    "    Если у вас есть такая стопка, убирать тарелки вы будете, начиная сверху.\n",
    "    '''\n",
    "    def __init__(self):\n",
    "        self.stack = []\n",
    "    \n",
    "    def push(self, element) -> None:\n",
    "        ''' Добавление в стек'''\n",
    "        self.stack.append(element)\n",
    "\n",
    "    def pop(self):\n",
    "        ''' Удаление из стека '''\n",
    "        if len(self.stack) == 0:    # если стек пуст\n",
    "            return 'babes, its empty'\n",
    "        \n",
    "        return self.stack.pop()\n",
    "\n",
    "    def size(self):\n",
    "        ''' Возращает длину'''\n",
    "        return len(self.stack)\n",
    "\n",
    "    def get_stack(self):\n",
    "        ''' Возвращает стек '''\n",
    "        return self.stack"
   ]
  },
  {
   "cell_type": "code",
   "execution_count": null,
   "metadata": {},
   "outputs": [],
   "source": [
    "stack = Stack()\n",
    "\n",
    "stack.pop()                 # 'babes, its empty'\n",
    "\n",
    "stack.push(3)\n",
    "print(stack.get_stack())    # [3]\n",
    "\n",
    "[stack.push(i) for i in range(2, 10)]\n",
    "print(stack.get_stack())    # [3, 2, 3, 4, 5, 6, 7, 8, 9]\n",
    "\n",
    "stack.pop()                 # 9\n",
    "print(stack.get_stack())    # [3, 2, 3, 4, 5, 6, 7, 8]\n",
    "stack.pop()                 # 8\n",
    "print(stack.get_stack())    # [3, 2, 3, 4, 5, 6, 7]\n",
    "\n",
    "print(stack.size())         # 7"
   ]
  }
 ],
 "metadata": {
  "interpreter": {
   "hash": "b0fa6594d8f4cbf19f97940f81e996739fb7646882a419484c72d19e05852a7e"
  },
  "kernelspec": {
   "display_name": "Python 3.9.12 64-bit",
   "language": "python",
   "name": "python3"
  },
  "language_info": {
   "codemirror_mode": {
    "name": "ipython",
    "version": 3
   },
   "file_extension": ".py",
   "mimetype": "text/x-python",
   "name": "python",
   "nbconvert_exporter": "python",
   "pygments_lexer": "ipython3",
   "version": "3.9.12"
  },
  "orig_nbformat": 4
 },
 "nbformat": 4,
 "nbformat_minor": 2
}
