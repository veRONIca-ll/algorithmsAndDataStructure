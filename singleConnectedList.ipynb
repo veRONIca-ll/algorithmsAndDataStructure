{
 "cells": [
  {
   "cell_type": "markdown",
   "metadata": {},
   "source": [
    "Реализуйте структуру данных \"Односвязный список\" на языке программирования по вашему выбору.\n",
    "\n",
    "Необходимо реализовать \n",
    "* создание пустого списка, \n",
    "* добавление элемента списка, \n",
    "* удаление элемента, \n",
    "* поиск элемента по номеру и по значению. \n",
    "\n",
    "Желательно использовать ООП. По возможности обеспечить все возможные проверки."
   ]
  },
  {
   "cell_type": "code",
   "execution_count": 1,
   "metadata": {},
   "outputs": [],
   "source": [
    "class Node:\n",
    "    ''' Класс, отвечающий за элемент односвязного списка '''\n",
    "    def __init__(self, node):\n",
    "        self.node = node\n",
    "        self.next = None\n",
    "\n",
    "class SingleConnectedList:\n",
    "    ''' \n",
    "    Класс, отвечающий за односвязный список\n",
    "    Элементами являются экземпляры класса Node\n",
    "    '''\n",
    "    def __init__(self):\n",
    "        self.head = None\n",
    "        self.tail = None\n",
    "        \n",
    "    def add_node(self, node) -> None:\n",
    "        ''' Добавление элемента в список '''\n",
    "        if isinstance(node, Node) == False:\n",
    "            node = Node(node)\n",
    "\n",
    "        if self.head == None:\n",
    "            self.head = node\n",
    "        else:\n",
    "            # self.tail.next является последним элементом списка,\n",
    "            # которому нужно назначить указатель на новый добавляемый элемент\n",
    "            self.tail.next = node\n",
    "        \n",
    "        self.tail = node\n",
    "        return\n",
    "\n",
    "    def remove_node_by_value(self, value) -> bool:\n",
    "        ''' Удаление элемента из списка по его значению '''\n",
    "        if self.head.node == value:\n",
    "            self.head = self.head.next\n",
    "            return False\n",
    "\n",
    "        prev = self.head\n",
    "        current = self.head.next\n",
    "        while current is not None:\n",
    "            if current.node == value:\n",
    "                prev.next = current.next\n",
    "                return True\n",
    "            prev = current\n",
    "            current = current.next\n",
    "            \n",
    "        return False\n",
    "\n",
    "    def remove_node_by_id(self, id: int) -> bool:\n",
    "        ''' Удаление элемента из списка по его ID '''\n",
    "        if id < 0:\n",
    "            id = self.length + id\n",
    "        \n",
    "        if self.length() - 1 < id:\n",
    "            return False\n",
    "        \n",
    "        if id == 0:\n",
    "            self.head = self.head.next\n",
    "            return True\n",
    "        \n",
    "        prev = self.head\n",
    "        current_id = 0\n",
    "        current = self.head.next\n",
    "\n",
    "        while current is not None:\n",
    "            if current_id == id:\n",
    "                prev.next = current.next\n",
    "                return True\n",
    "            prev = current\n",
    "            current = current.next\n",
    "            \n",
    "        return False\n",
    "        \n",
    "    def length(self) -> int:\n",
    "        ''' Возвращает длину списка '''\n",
    "        length = 0\n",
    "        current = self.head\n",
    "        while current is not None:\n",
    "            length += 1\n",
    "            current = current.next\n",
    "\n",
    "        return length\n",
    "\n",
    "    def get_element_by_id(self, id: int) -> Node or None:\n",
    "        ''' Поиск элемента по его ID '''\n",
    "        if self.length() - 1 < id:\n",
    "            return None\n",
    "\n",
    "        current = self.head\n",
    "        current_id = 0\n",
    "        while current is not None:\n",
    "            if current_id == id:\n",
    "                return current\n",
    "            current = current.next\n",
    "            current_id += 1\n",
    "\n",
    "    def get_element_by_value(self, value) -> Node or None:\n",
    "        ''' Поиск элемента по его значению '''\n",
    "\n",
    "        current = self.head\n",
    "        while current is not None:\n",
    "            if current.node == value:\n",
    "                return current\n",
    "            current = current.next\n",
    "\n",
    "        return None\n",
    "\n",
    "    def print_values(self) -> None:\n",
    "        current = self.head\n",
    "        while current is not None:\n",
    "            print(current.node, end=' ')\n",
    "            current = current.next\n",
    "        \n",
    "    "
   ]
  },
  {
   "cell_type": "code",
   "execution_count": 2,
   "metadata": {},
   "outputs": [
    {
     "name": "stdout",
     "output_type": "stream",
     "text": [
      "1 2 3 100 "
     ]
    }
   ],
   "source": [
    "a = Node('1')\n",
    "a1 = Node('2')\n",
    "a2 = Node('3')\n",
    "\n",
    "li = SingleConnectedList()\n",
    "\n",
    "li.add_node(a)\n",
    "li.add_node(a1)\n",
    "li.add_node(a2)\n",
    "li.add_node(100)\n",
    "\n",
    "li.print_values() # 1 2 3 100"
   ]
  },
  {
   "cell_type": "code",
   "execution_count": 3,
   "metadata": {},
   "outputs": [
    {
     "name": "stdout",
     "output_type": "stream",
     "text": [
      "True\n",
      "1 3 100 \n",
      "False\n",
      "False\n"
     ]
    }
   ],
   "source": [
    "print(li.remove_node_by_value('2')) # True\n",
    "li.print_values() # 1 3 100 \n",
    "print()\n",
    "print(li.remove_node_by_value(5)) # False\n",
    "print(li.remove_node_by_id(100)) # False"
   ]
  },
  {
   "cell_type": "code",
   "execution_count": 4,
   "metadata": {},
   "outputs": [
    {
     "name": "stdout",
     "output_type": "stream",
     "text": [
      "None\n",
      "100\n"
     ]
    }
   ],
   "source": [
    "print(li.get_element_by_id(10)) # None\n",
    "print(li.get_element_by_value('3').next.node) # 100"
   ]
  }
 ],
 "metadata": {
  "interpreter": {
   "hash": "b0fa6594d8f4cbf19f97940f81e996739fb7646882a419484c72d19e05852a7e"
  },
  "kernelspec": {
   "display_name": "Python 3.9.12 64-bit",
   "language": "python",
   "name": "python3"
  },
  "language_info": {
   "codemirror_mode": {
    "name": "ipython",
    "version": 3
   },
   "file_extension": ".py",
   "mimetype": "text/x-python",
   "name": "python",
   "nbconvert_exporter": "python",
   "pygments_lexer": "ipython3",
   "version": "3.9.12"
  },
  "orig_nbformat": 4
 },
 "nbformat": 4,
 "nbformat_minor": 2
}
