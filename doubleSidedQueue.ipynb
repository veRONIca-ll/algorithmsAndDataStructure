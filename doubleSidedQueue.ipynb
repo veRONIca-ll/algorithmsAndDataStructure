{
 "cells": [
  {
   "cell_type": "code",
   "execution_count": 1,
   "metadata": {},
   "outputs": [],
   "source": [
    "class DoubleSidedQueue:\n",
    "    '''\n",
    "    В режиме двойной очереди, как указано имя, \n",
    "    данные могут быть добавлены и удалены спереди, а также сзади,\n",
    "    но данные не могут быть добавлены или удалены в середине очереди.\n",
    "    Двойные очереди также называются деквизами.\n",
    "    '''\n",
    "\n",
    "    def __init__(self):\n",
    "        self.queue = []\n",
    "        self.size = 0\n",
    "\n",
    "    def insert_start(self, element) -> None:\n",
    "        ''' Добавление элемента в начало очереди '''\n",
    "        if self.size == 0:         # если пустая очередь\n",
    "            self.queue = [element]\n",
    "            self.size = 1\n",
    "            return \n",
    "        \n",
    "        self.queue.insert(0, element)\n",
    "        self.size += 1\n",
    "        return\n",
    "\n",
    "    def insert_end(self, element) -> None:\n",
    "        ''' Добавление элемента в конец очереди '''\n",
    "        if self.size == 0:         # если пустая очередь\n",
    "            self.queue = [element]\n",
    "            self.size = 1\n",
    "            return \n",
    "\n",
    "        self.queue.append(element)\n",
    "        self.size += 1\n",
    "\n",
    "    def remove_start(self):\n",
    "        ''' Удаление элемента из начала очереди '''\n",
    "        if self.size == 0:         # если пустая очередь\n",
    "            return 'babes, its empty'\n",
    "        \n",
    "        removed = self.queue.pop(0)\n",
    "        self.size -= 1\n",
    "        return removed\n",
    "\n",
    "    def remove_end(self):\n",
    "        ''' Удаление элемента из конца очереди '''\n",
    "        if self.size == 0:         # если пустая очередь\n",
    "            return 'babes, its empty'\n",
    "        \n",
    "        removed = self.queue.pop()\n",
    "        self.size -= 1\n",
    "        return removed\n",
    "\n",
    "    def get(self, index):\n",
    "        if self.size == 0 or index >= self.size:\n",
    "            return 'babes, what are you doing?' \n",
    "        \n",
    "        return self.queue[index]\n",
    "\n",
    "    def size(self):\n",
    "        return self.size\n",
    "\n",
    "    def get_queue(self):\n",
    "        return self.queue\n"
   ]
  },
  {
   "cell_type": "code",
   "execution_count": 14,
   "metadata": {},
   "outputs": [
    {
     "name": "stdout",
     "output_type": "stream",
     "text": [
      "[4]\n",
      "['hi', 4]\n",
      "['hi', 4, 'end']\n",
      "[4, 'end']\n",
      "[4]\n"
     ]
    }
   ],
   "source": [
    "queue = DoubleSidedQueue()\n",
    "\n",
    "queue.insert_end(4)\n",
    "print(queue.get_queue()) # [4]\n",
    "\n",
    "queue.insert_start('hi')\n",
    "print(queue.get_queue()) # ['hi', 4]\n",
    "\n",
    "queue.insert_end('end')\n",
    "print(queue.get_queue()) # ['hi', 4, 'end']\n",
    "\n",
    "queue.get(100)           # 'babes, what are you doing?'\n",
    "queue.get(2)             # 'end'\n",
    "\n",
    "queue.remove_start()     # 'hi'\n",
    "print(queue.get_queue()) # [4, 'end']\n",
    "\n",
    "queue.remove_end()       # 'end'\n",
    "print(queue.get_queue()) # [4]"
   ]
  },
  {
   "cell_type": "code",
   "execution_count": null,
   "metadata": {},
   "outputs": [],
   "source": []
  }
 ],
 "metadata": {
  "interpreter": {
   "hash": "b0fa6594d8f4cbf19f97940f81e996739fb7646882a419484c72d19e05852a7e"
  },
  "kernelspec": {
   "display_name": "Python 3.9.12 64-bit",
   "language": "python",
   "name": "python3"
  },
  "language_info": {
   "codemirror_mode": {
    "name": "ipython",
    "version": 3
   },
   "file_extension": ".py",
   "mimetype": "text/x-python",
   "name": "python",
   "nbconvert_exporter": "python",
   "pygments_lexer": "ipython3",
   "version": "3.9.12"
  },
  "orig_nbformat": 4
 },
 "nbformat": 4,
 "nbformat_minor": 2
}
